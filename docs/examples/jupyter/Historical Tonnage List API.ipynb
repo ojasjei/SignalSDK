{
 "cells": [
  {
   "cell_type": "markdown",
   "metadata": {},
   "source": [
    "# Historical Tonnage List API Examples"
   ]
  },
  {
   "cell_type": "markdown",
   "metadata": {},
   "source": [
    "## Setup\n",
    "Install the Signal Ocean SDK:\n",
    "```\n",
    "pip install signal-ocean\n",
    "```\n",
    "And put your API key in a `SIGNAL_OCEAN_API_KEY` environment variable."
   ]
  },
  {
   "cell_type": "markdown",
   "metadata": {},
   "source": [
    "## Retrieving a historical tonnage list\n",
    "First, we need to determine the parameters of the **historical tonnage list** (**HTL**). In order to fetch an HTL, we will need to specify:\n",
    "- a loading port,\n",
    "- a vessel class,\n",
    "- a time frame.\n",
    "\n",
    "Ports and vessel classes can be retrieved through their corresponding APIs via the `PortAPI` and `VesselClassAPI` classes:"
   ]
  },
  {
   "cell_type": "code",
   "execution_count": null,
   "metadata": {},
   "outputs": [],
   "source": [
    "from signal_ocean import PortAPI, VesselClassAPI\n",
    "\n",
    "port_api = PortAPI()\n",
    "vessel_class_api = VesselClassAPI()\n",
    "\n",
    "vessel_class_api.get_vessel_classes()"
   ]
  },
  {
   "cell_type": "markdown",
   "metadata": {},
   "source": [
    "Ports can be looked up by their name using the `PortFilter`:"
   ]
  },
  {
   "cell_type": "code",
   "execution_count": null,
   "metadata": {},
   "outputs": [],
   "source": [
    "from signal_ocean import PortFilter\n",
    "\n",
    "port_api.get_ports(PortFilter(name_like='roa'))"
   ]
  },
  {
   "cell_type": "markdown",
   "metadata": {},
   "source": [
    "And so can vessel classes with the use of the `VesselClassFilter`:"
   ]
  },
  {
   "cell_type": "code",
   "execution_count": null,
   "metadata": {},
   "outputs": [],
   "source": [
    "from signal_ocean import VesselClassFilter\n",
    "\n",
    "vessel_class_api.get_vessel_classes(VesselClassFilter(name_like='MAX'))"
   ]
  },
  {
   "cell_type": "markdown",
   "metadata": {},
   "source": [
    "Note that the search is case-insensitive and does not require specifying exact names.\n",
    "\n",
    "We will look for Aframax vessels in Ceyhan, 6 days forward, for the last 90 days:"
   ]
  },
  {
   "cell_type": "code",
   "execution_count": null,
   "metadata": {},
   "outputs": [],
   "source": [
    "from datetime import date, timedelta\n",
    "\n",
    "vessel_class = vessel_class_api.get_vessel_classes(VesselClassFilter(name_like='aframax'))[0]\n",
    "port = port_api.get_ports(PortFilter(name_like='ceyhan'))[0]\n",
    "days_forward = 6\n",
    "today = date.today()\n",
    "start_date = today - timedelta(days=90)"
   ]
  },
  {
   "cell_type": "markdown",
   "metadata": {},
   "source": [
    "With the parameters above, we can now call the API:"
   ]
  },
  {
   "cell_type": "code",
   "execution_count": null,
   "metadata": {},
   "outputs": [],
   "source": [
    "from signal_ocean.historical_tonnage_list import HistoricalTonnageListAPI\n",
    "\n",
    "htl_api = HistoricalTonnageListAPI()\n",
    "\n",
    "htl = htl_api.get_historical_tonnage_list(\n",
    "    port,\n",
    "    vessel_class,\n",
    "    days_forward,\n",
    "    start_date,\n",
    "    end_date=today\n",
    ")"
   ]
  },
  {
   "cell_type": "markdown",
   "metadata": {},
   "source": [
    "The resulting historical tonnage list is a Python object that contains a collection of tonnage lists, each of which has a timestamp and a collection of vessel data. The tonnage lists are ordered by date in descending order:"
   ]
  },
  {
   "cell_type": "code",
   "execution_count": null,
   "metadata": {},
   "outputs": [],
   "source": [
    "todays_tl = htl[0]\n",
    "print('Date:', todays_tl.date)\n",
    "print('Vessel count:', len(todays_tl.vessels))\n",
    "print('Example vessel:', todays_tl.vessels[0])"
   ]
  },
  {
   "cell_type": "markdown",
   "metadata": {},
   "source": [
    "The result can also be converted into a Pandas data frame:"
   ]
  },
  {
   "cell_type": "code",
   "execution_count": null,
   "metadata": {},
   "outputs": [],
   "source": [
    "data_frame = htl.to_data_frame()\n",
    "data_frame"
   ]
  },
  {
   "cell_type": "markdown",
   "metadata": {},
   "source": [
    "## Example 1 - Plotting a supply trend\n",
    "The data frame format makes it very easy to generate a supply trend plot.\n",
    "\n",
    "We'll generate a supply trend from the beginning of the year, but we'll also filter the vessel list by looking for vessels that:\n",
    "- are pushed,\n",
    "- have a market deployment type of \"Relet\" or \"Spot\",\n",
    "- their commercial status is available, cancelled or failed,\n",
    "- are crude oil tankers (their vessel subclass is \"Dirty\"),\n",
    "- their AIS information is no older than 5 days.\n",
    "\n",
    "Filtering can be achieved by creating an instance of a `VesselFilter` and passing it to the `get_historical_tonnage_list` method. A `VesselFilter` meeting the above criteria will look as follows:"
   ]
  },
  {
   "cell_type": "code",
   "execution_count": null,
   "metadata": {},
   "outputs": [],
   "source": [
    "from signal_ocean.historical_tonnage_list import VesselFilter, PushType, MarketDeployment, CommercialStatus, VesselSubclass\n",
    "\n",
    "vessel_filter = VesselFilter(\n",
    "    push_types=[PushType.PUSHED],\n",
    "    market_deployments=[MarketDeployment.RELET, MarketDeployment.SPOT],\n",
    "    commercial_statuses=[CommercialStatus.AVAILABLE, CommercialStatus.CANCELLED, CommercialStatus.FAILED],\n",
    "    vessel_subclass=VesselSubclass.DIRTY,\n",
    "    latest_ais_since=5\n",
    ")"
   ]
  },
  {
   "cell_type": "markdown",
   "metadata": {},
   "source": [
    "Note the usage of the `PushType`, `MarketDeployment`, `CommercialStatus`, and `VesselSubclass`. These are enum-like classes that contain constants for all the possible values for a given `VesselFilter` parameter. To list the available values for any of the classes, just invoke `list()` on the class:"
   ]
  },
  {
   "cell_type": "code",
   "execution_count": null,
   "metadata": {},
   "outputs": [],
   "source": [
    "list(CommercialStatus)"
   ]
  },
  {
   "cell_type": "markdown",
   "metadata": {},
   "source": [
    "You can use these values directly or use a corresponding class member:"
   ]
  },
  {
   "cell_type": "code",
   "execution_count": null,
   "metadata": {},
   "outputs": [],
   "source": [
    "CommercialStatus.ON_SUBS == 'On Subs'"
   ]
  },
  {
   "cell_type": "markdown",
   "metadata": {},
   "source": [
    "Let's get the HTL for our filter:"
   ]
  },
  {
   "cell_type": "code",
   "execution_count": null,
   "metadata": {},
   "outputs": [],
   "source": [
    "beginning_of_year = date(today.year, 1, 1)\n",
    "\n",
    "htl_for_supply_trend = htl_api.get_historical_tonnage_list(\n",
    "    port,\n",
    "    vessel_class,\n",
    "    days_forward,\n",
    "    beginning_of_year,\n",
    "    end_date=today,\n",
    "    vessel_filter=vessel_filter\n",
    ")\n",
    "\n",
    "supply_trend_data_frame = htl_for_supply_trend.to_data_frame()\n",
    "\n",
    "supply_trend_data_frame"
   ]
  },
  {
   "cell_type": "markdown",
   "metadata": {},
   "source": [
    "Now, we can generate the plot:"
   ]
  },
  {
   "cell_type": "code",
   "execution_count": null,
   "metadata": {},
   "outputs": [],
   "source": [
    "from signal_ocean.historical_tonnage_list import IndexLevel\n",
    "\n",
    "supply_trend = supply_trend_data_frame.groupby(IndexLevel.DATE, sort=True).size()\n",
    "plot = supply_trend.plot()\n",
    "plot.set_ylabel('Vessel count')\n",
    "\n",
    "plot"
   ]
  },
  {
   "cell_type": "markdown",
   "metadata": {},
   "source": [
    "## Example 2 - Generating an Excel sheet\n",
    "The data frame can be easily saved as an Excel file by using Pandas's built-in `to_excel()` function.\n",
    "\n",
    "Before we do that, we need to remove all the time zone information from all the timestamps in the data frame. This is because Excel does not support storing time zone information along with timestamps. However, Signal Ocean's SDK always provides time zone information to make all timestamp-based computation unambiguous."
   ]
  },
  {
   "cell_type": "code",
   "execution_count": null,
   "metadata": {},
   "outputs": [],
   "source": [
    "from signal_ocean.historical_tonnage_list import Column\n",
    "\n",
    "without_time_zones = (\n",
    "    supply_trend_data_frame\n",
    "        .reset_index()\n",
    "        .astype({ IndexLevel.DATE: 'datetime64[ns]', Column.OPEN_DATE: 'datetime64[ns]', Column.ETA: 'datetime64[ns]', Column.LATEST_AIS: 'datetime64[ns]'})\n",
    "        .set_index([IndexLevel.DATE, IndexLevel.IMO])\n",
    " )"
   ]
  },
  {
   "cell_type": "markdown",
   "metadata": {},
   "source": [
    "Now, we can generate the Excel file:"
   ]
  },
  {
   "cell_type": "code",
   "execution_count": null,
   "metadata": {},
   "outputs": [],
   "source": [
    "without_time_zones.to_excel('htl.xlsx')"
   ]
  }
 ],
 "metadata": {
  "kernelspec": {
   "display_name": "Python 3",
   "language": "python",
   "name": "python3"
  },
  "language_info": {
   "codemirror_mode": {
    "name": "ipython",
    "version": 3
   },
   "file_extension": ".py",
   "mimetype": "text/x-python",
   "name": "python",
   "nbconvert_exporter": "python",
   "pygments_lexer": "ipython3",
   "version": "3.8.2"
  }
 },
 "nbformat": 4,
 "nbformat_minor": 4
}
